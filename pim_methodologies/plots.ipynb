{
 "cells": [
  {
   "cell_type": "code",
   "execution_count": null,
   "id": "5f704427",
   "metadata": {},
   "outputs": [],
   "source": [
    "# GENERATING PRELIMINARY PLOTS"
   ]
  },
  {
   "cell_type": "code",
   "execution_count": 1,
   "id": "a6ec0f57-b1b9-4c71-a2dd-c2239ffd4cde",
   "metadata": {},
   "outputs": [],
   "source": [
    "import numpy as np\n",
    "import pandas as pd\n",
    "import matplotlib.pyplot as plt"
   ]
  },
  {
   "cell_type": "code",
   "execution_count": 2,
   "id": "2f6beaec-53b2-461b-af35-8eaf7dafbc1d",
   "metadata": {
    "scrolled": true
   },
   "outputs": [],
   "source": [
    "#complete methodology table as dataframe\n",
    "ms_complete = pd.read_csv('methods.csv')"
   ]
  },
  {
   "cell_type": "code",
   "execution_count": 3,
   "id": "83c9eb7f-ea48-4e26-ac9c-7f5ca28e8c7e",
   "metadata": {},
   "outputs": [],
   "source": [
    "#filter to include only columns 'Tools', 'Year', 'PIM', drop unfilled rows, convert year to int values\n",
    "ms_filtered = ms_complete[[\"Tools\", \"Year\", \"PIM \"]].dropna().reset_index()\n",
    "ms_filtered.Year = ms_filtered.Year.astype(int)"
   ]
  },
  {
   "cell_type": "code",
   "execution_count": null,
   "id": "e74e9ac5-9214-48aa-8203-ff210a2a4013",
   "metadata": {},
   "outputs": [],
   "source": [
    "# BARCHART"
   ]
  },
  {
   "cell_type": "code",
   "execution_count": 15,
   "id": "37aebbfe-3ff2-4bab-8343-a71455f12dce",
   "metadata": {},
   "outputs": [],
   "source": [
    "#filter by PIM technology (PNM / PUM) or year (2013 - 2024)\n",
    "focus = ['PUM']\n",
    "col = 'PIM '\n",
    "\n",
    "mask = ms_filtered[col].isin(focus)\n",
    "ms_focused = ms_filtered[mask]\n",
    "\n",
    "#switch to look at different table\n",
    "current_table = ms_focused"
   ]
  },
  {
   "cell_type": "code",
   "execution_count": 16,
   "id": "9a2b9423-9757-483a-8a4d-a768335969a7",
   "metadata": {},
   "outputs": [],
   "source": [
    "#get names and counts of unique tools\n",
    "a = current_table.Tools.str.split(', ', expand=True).to_numpy()\n",
    "all_tools, all_counts = np.unique(a[a != np.array(None)], return_counts=True)"
   ]
  },
  {
   "cell_type": "code",
   "execution_count": null,
   "id": "ffac5b8d-1ba6-408d-bf57-de346aeb6a40",
   "metadata": {},
   "outputs": [],
   "source": [
    "#plot all tools\n",
    "plt.title(\"All Tools All Occurences\")\n",
    "plt.bar(all_tools, all_counts)\n",
    "plt.xticks(rotation = -90)\n",
    "plt.show()"
   ]
  },
  {
   "cell_type": "code",
   "execution_count": null,
   "id": "322bb4ea-f25a-4094-89ba-b0779c403aae",
   "metadata": {},
   "outputs": [],
   "source": [
    "#plot tools with greater than one occurence\n",
    "to_include = []\n",
    "tools = []\n",
    "counts = []\n",
    "for i in range(len(all_counts)):\n",
    "    if all_counts[i] > 1:\n",
    "        tools.append(all_tools[i])\n",
    "        counts.append(all_counts[i])\n",
    "plt.bar(tools, counts)\n",
    "plt.title(f\"{focus[0].strip('[]')} Tools Occurrences > 1\") #adjust\n",
    "plt.xticks(rotation = -90)\n",
    "plt.show()"
   ]
  },
  {
   "cell_type": "code",
   "execution_count": null,
   "id": "e3297cfe-13a1-4a58-9603-5d8cee26d2d2",
   "metadata": {},
   "outputs": [],
   "source": [
    "# STACKED BARCHART"
   ]
  },
  {
   "cell_type": "code",
   "execution_count": 196,
   "id": "fdd72ada-2cdb-4ae5-93b4-3dda24f60f05",
   "metadata": {},
   "outputs": [],
   "source": [
    "#FUNCTION DEFINITIONS\n",
    "def focus_count(col, focus, tools):\n",
    "    #create numpy array of tools used\n",
    "    mask = ms_filtered[col].isin(focus)\n",
    "    ms_focused = ms_filtered[mask]\n",
    "    a = ms_focused.Tools.str.split(', ', expand=True).to_numpy()\n",
    "\n",
    "    #return list of counts\n",
    "    focus_counts = []\n",
    "    for t in tools:\n",
    "        focus_counts.append((a == t).sum())\n",
    "    return focus_counts"
   ]
  },
  {
   "cell_type": "code",
   "execution_count": 197,
   "id": "19c763f9-c4b1-443e-be0d-2224b7239e3f",
   "metadata": {},
   "outputs": [],
   "source": [
    "#get all tools with count greater than one (list: tools)\n",
    "a = ms_filtered.Tools.str.split(', ', expand=True).to_numpy()\n",
    "all_tools, all_counts = np.unique(a[a != np.array(None)], return_counts=True)\n",
    "to_include = []\n",
    "tools = []\n",
    "for i in range(len(all_counts)):\n",
    "    if all_counts[i] > 1:\n",
    "        tools.append(all_tools[i])"
   ]
  },
  {
   "cell_type": "code",
   "execution_count": null,
   "id": "a9d46b70-a425-467f-a9d6-d55931e1a5e1",
   "metadata": {},
   "outputs": [],
   "source": [
    "#get counts for each tool separated by PIM version\n",
    "tool_counts = {\n",
    "    'PNM': focus_count('PIM ', ['PNM'], tools),\n",
    "    'PUM': focus_count('PIM ', ['PUM'], tools),\n",
    "}"
   ]
  },
  {
   "cell_type": "code",
   "execution_count": 199,
   "id": "de85c47c-e921-45e3-922e-bdb04b84ad51",
   "metadata": {},
   "outputs": [],
   "source": [
    "#alternatively: counts separated by year\n",
    "tool_counts = {str(k):None for k in range(2013, 2025)}\n",
    "for y in tool_counts:\n",
    "    tool_counts[y] = focus_count('Year', [int(y)], tools)"
   ]
  },
  {
   "cell_type": "code",
   "execution_count": 202,
   "id": "fb640b05-2631-450f-93b0-efcd38579873",
   "metadata": {},
   "outputs": [],
   "source": [
    "#or years grouped by four\n",
    "tool_counts = {\n",
    "    '2013-2016': focus_count('Year', list(range(2013, 2017)), tools),\n",
    "    '2017-2020': focus_count('Year', list(range(2017, 2021)), tools),\n",
    "    '2021-2024': focus_count('Year', list(range(2021, 2025)), tools),\n",
    "}"
   ]
  },
  {
   "cell_type": "code",
   "execution_count": null,
   "id": "621a8bf8-d8ec-47ba-8bb5-45434f2d9147",
   "metadata": {},
   "outputs": [],
   "source": [
    "#chart\n",
    "f, ax = plt.subplots()\n",
    "bottom = np.zeros(len(tools))\n",
    "for tool, count in tool_counts.items():\n",
    "    p = ax.bar(tools, count, label=tool, bottom=bottom)\n",
    "    bottom += count\n",
    "ax.set_title(\"Tools Occurences > 1\")\n",
    "ax.legend()\n",
    "plt.xticks(rotation = -90)\n",
    "plt.show()"
   ]
  }
 ],
 "metadata": {
  "kernelspec": {
   "display_name": "Python 3 (ipykernel)",
   "language": "python",
   "name": "python3"
  },
  "language_info": {
   "codemirror_mode": {
    "name": "ipython",
    "version": 3
   },
   "file_extension": ".py",
   "mimetype": "text/x-python",
   "name": "python",
   "nbconvert_exporter": "python",
   "pygments_lexer": "ipython3",
   "version": "3.12.4"
  }
 },
 "nbformat": 4,
 "nbformat_minor": 5
}
