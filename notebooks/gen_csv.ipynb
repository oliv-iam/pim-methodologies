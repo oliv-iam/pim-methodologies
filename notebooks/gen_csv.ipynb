{
 "cells": [
  {
   "cell_type": "code",
   "execution_count": null,
   "metadata": {},
   "outputs": [],
   "source": [
    "import shutil\n",
    "import os\n",
    "import sys\n",
    "import re"
   ]
  },
  {
   "cell_type": "code",
   "execution_count": null,
   "metadata": {},
   "outputs": [],
   "source": [
    "type = 'spec_cache' # '3D', 'mixed_cache', 'spec_cache'\n",
    "txt = 'cell_type_\"lp-dram\".cfg.txt'"
   ]
  },
  {
   "cell_type": "code",
   "execution_count": null,
   "metadata": {},
   "outputs": [],
   "source": [
    "file = os.path.join('csv_tests', txt)\n",
    "results = open(file, 'r')\n",
    "lines = results.readlines()\n",
    "lines = list(map(lambda x: x.rstrip(), lines))\n",
    "\n",
    "# all: ln 40 - 44: IO results\n",
    "for i in range(39, 44):\n",
    "    if i == 42:\n",
    "        eqs = [j.start() for j in re.finditer('=', lines[i])]\n",
    "        for eq in eqs:\n",
    "            print(f\", {re.sub(r\"[a-zA-Z ]\", '', lines[i][eq+2:eq+12])}\")\n",
    "    else:\n",
    "        print(f\", {lines[i][lines[i].index('=')+2:]}\")"
   ]
  },
  {
   "cell_type": "code",
   "execution_count": null,
   "metadata": {},
   "outputs": [],
   "source": [
    "# 3D DRAM only\n",
    "if type == '3D':\n",
    "    for i in range(62, 83):\n",
    "        if i in [68, 73, 79]:\n",
    "            continue\n",
    "        else:\n",
    "            print(f\", {re.sub(r\"[a-zA-Z %]\", '', lines[i][lines[i].index(':')+2:])}\")"
   ]
  },
  {
   "cell_type": "code",
   "execution_count": null,
   "metadata": {},
   "outputs": [],
   "source": [
    "# all cache (not 3D)\n",
    "if type in ['mixed_cache', 'spec_cache']:\n",
    "    model = lines[45][lines[45].index('2), ')+4:lines[45].index('-', 12)-1]\n",
    "    if model == 'UniformCache Access Commodity DRAM Model':\n",
    "        spec = 'uca_comm-dram'\n",
    "    elif model == 'Uniform Cache Access SRAM Model':\n",
    "        spec = 'uca_sram'\n",
    "    elif model == 'Uniform Cache Access Logic Process Based DRAM Model':\n",
    "        spec = 'uca_lp-dram'\n",
    "    else:\n",
    "        print('specific model not defined')\n",
    "        sys.exit(1)\n",
    "\n",
    "    # final line to read depends on spec\n",
    "    hi = 63 # hi for 'uca_sram', 'uca_lp-dram'\n",
    "    if spec == 'uca_comm-dram':\n",
    "            hi = 68\n",
    "\n",
    "    # set lines to parse based on type\n",
    "    lines_list = list(range(57, hi+1)) # list for 'spec_cache'\n",
    "    if type == 'mixed_cache':\n",
    "        lines_list = [57, 58, hi] # list for 'mixed_cache'\n",
    "\n",
    "    for i in lines_list: #FIXME: possible issue- line 58 extra space\n",
    "        if i == hi:\n",
    "            colon = lines[i].index(':')\n",
    "            x = lines[i].index('x', colon)\n",
    "            print(f\", {lines[i][colon+2:x-1]}\")\n",
    "            print(f\", {lines[i][x+2:]}\")\n",
    "        else:\n",
    "            print(f\", {lines[i][lines[i].index(':')+2:]}\")\n"
   ]
  },
  {
   "cell_type": "code",
   "execution_count": null,
   "metadata": {},
   "outputs": [],
   "source": [
    "f.close()\n",
    "print('csv generated')"
   ]
  }
 ],
 "metadata": {
  "kernelspec": {
   "display_name": "surf_24",
   "language": "python",
   "name": "python3"
  },
  "language_info": {
   "codemirror_mode": {
    "name": "ipython",
    "version": 3
   },
   "file_extension": ".py",
   "mimetype": "text/x-python",
   "name": "python",
   "nbconvert_exporter": "python",
   "pygments_lexer": "ipython3",
   "version": "3.12.3"
  }
 },
 "nbformat": 4,
 "nbformat_minor": 2
}
